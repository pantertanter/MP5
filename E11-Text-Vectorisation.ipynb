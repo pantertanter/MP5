{
 "cells": [
  {
   "cell_type": "markdown",
   "id": "40458ccb",
   "metadata": {},
   "source": [
    "# Text Vectorisation and Similarity"
   ]
  },
  {
   "cell_type": "markdown",
   "id": "ac7ad7b0",
   "metadata": {},
   "source": [
    "The process of converting or transforming a data set into a set of vectors is called __Vectorization__.<br>\n",
    "Here we explore several methods of text vectorisation.\n",
    "- __word vectors__ - a relatively old approach of NLP, where the words of a sentence are processed without context, just lexically (NLP). These algorithms implement techniques, such as __Bag-Of-Words__ and __TF-IDF__ <br>\n",
    "- modern algoriths that consider the meaning, the semantical role of the word in a sentence and simulate \"undrstanding\" the inforation in the document (NLU). These algiriths implement tokens, embedding, and deep learning ANN.\n",
    "\n",
    "This notebook explains the approaches and several basic methods for their implementation.\n",
    "\n",
    "Objectives: \n",
    "- understanding the basic concepts of text vectorisation \n",
    "- practicing implementation of vectorisation algorithms in Python programming\n",
    "\n",
    "Tasks: \n",
    "1. Create a function for estimating the similarity between two vectors by means of _cosine similarity_ measure\n",
    "2. Test the function by comparing variety of numeric test data\n",
    "3. Test the function by comparing text data\n",
    "3. Apply the function in a Q&A (questions answering) application"
   ]
  },
  {
   "cell_type": "code",
   "execution_count": 15,
   "id": "76a65ff5",
   "metadata": {},
   "outputs": [],
   "source": [
    "import numpy as np\n",
    "import pandas as pd\n",
    "import ctypes\n",
    "import math\n",
    "import pprint"
   ]
  },
  {
   "cell_type": "code",
   "execution_count": 16,
   "id": "c7da494a",
   "metadata": {},
   "outputs": [],
   "source": [
    "import cosimfunc\n",
    "from cosimfunc import cosim"
   ]
  },
  {
   "cell_type": "code",
   "execution_count": 17,
   "id": "1f7ea23e",
   "metadata": {},
   "outputs": [
    {
     "data": {
      "text/plain": [
       "<module 'cosimfunc' from 'C:\\\\Users\\\\Alexander Michelsen\\\\Downloads\\\\cosimfunc.py'>"
      ]
     },
     "execution_count": 17,
     "metadata": {},
     "output_type": "execute_result"
    }
   ],
   "source": [
    "import importlib \n",
    "importlib.reload(cosimfunc)"
   ]
  },
  {
   "cell_type": "markdown",
   "id": "07ea901f",
   "metadata": {},
   "source": [
    "## Input "
   ]
  },
  {
   "cell_type": "markdown",
   "id": "8f4b9d31",
   "metadata": {},
   "source": [
    "First, we experiment with two text documents (sentences)."
   ]
  },
  {
   "cell_type": "code",
   "execution_count": 9,
   "id": "8af260bd",
   "metadata": {},
   "outputs": [],
   "source": [
    "# enter two sentences\n",
    "doc1 = \"Mette Frederiksen is the prime minister of Denmark.\"\n",
    "doc2 = \"Denmark has female prime minister, who has the name Mette Frederiksen.\""
   ]
  },
  {
   "cell_type": "code",
   "execution_count": null,
   "id": "0b448579",
   "metadata": {},
   "outputs": [],
   "source": []
  },
  {
   "cell_type": "markdown",
   "id": "bd38b5fc",
   "metadata": {},
   "source": [
    "## Bag Of Words"
   ]
  },
  {
   "cell_type": "markdown",
   "id": "1b81c1ab",
   "metadata": {},
   "source": [
    "A model, which represents the text as an unordered collection of words. It doesn't considedr the grammar features, nor the order of appearance of the words, but keeps information about multiplicity of the words (the frequency of appearance of each word in the text). <br>\n",
    "Once we collect the words, we can code them in a numeric code, so to be able to apply a similarity function."
   ]
  },
  {
   "cell_type": "code",
   "execution_count": 10,
   "id": "9f50e4f2",
   "metadata": {},
   "outputs": [],
   "source": [
    "# parse the sentences in words\n",
    "sent1 = doc1.split(\" \")\n",
    "sent2 = doc2.split(\" \")"
   ]
  },
  {
   "cell_type": "code",
   "execution_count": 11,
   "id": "ddbcb355",
   "metadata": {},
   "outputs": [
    {
     "name": "stdout",
     "output_type": "stream",
     "text": [
      "['Mette', 'Frederiksen', 'is', 'the', 'prime', 'minister', 'of', 'Denmark.']\n",
      "['Denmark', 'has', 'female', 'prime', 'minister,', 'who', 'has', 'the', 'name', 'Mette', 'Frederiksen.']\n"
     ]
    }
   ],
   "source": [
    "print(sent1)\n",
    "print(sent2)"
   ]
  },
  {
   "cell_type": "markdown",
   "id": "25df01f5",
   "metadata": {},
   "source": [
    "### Corpus of Terms"
   ]
  },
  {
   "cell_type": "code",
   "execution_count": 12,
   "id": "ef71bd9c",
   "metadata": {},
   "outputs": [
    {
     "name": "stdout",
     "output_type": "stream",
     "text": [
      "{'female', 'minister,', 'Frederiksen', 'prime', 'who', 'Mette', 'name', 'Denmark.', 'Frederiksen.', 'Denmark', 'has', 'the', 'is', 'of', 'minister'}\n"
     ]
    }
   ],
   "source": [
    "# All words appearing in all documents\n",
    "# union() removes duplications\n",
    "corpus = set(sent1).union(set(sent2))\n",
    "print(corpus)"
   ]
  },
  {
   "cell_type": "code",
   "execution_count": 13,
   "id": "30c8432f",
   "metadata": {},
   "outputs": [
    {
     "data": {
      "text/plain": [
       "15"
      ]
     },
     "execution_count": 13,
     "metadata": {},
     "output_type": "execute_result"
    }
   ],
   "source": [
    "# corpus size\n",
    "n = len(corpus)\n",
    "n"
   ]
  },
  {
   "cell_type": "markdown",
   "id": "74a70f35",
   "metadata": {},
   "source": [
    "## Method 1: Binary Vectorisation"
   ]
  },
  {
   "cell_type": "markdown",
   "id": "7a1ab458",
   "metadata": {},
   "source": [
    "Take all words from the corpus and check which one appears in each of the sentences (we call a sentence 'document').\n",
    "- For one sentence, write 1 for a word appears in that semntyence or 0 if it doesn't.\n",
    "- Do this for each sentence separately.\n",
    "\n",
    "Store the findings in a dictionary (key: value structure), one dict for each sentence.\n",
    "- the __word__ is a key, the __appearance__ of it is a value - 1 (appears) or 0 (doesn't appear)\n",
    "- at the start, each dictionary will contain empty positions - one per word in the corpus"
   ]
  },
  {
   "cell_type": "code",
   "execution_count": null,
   "id": "ea32d286",
   "metadata": {},
   "outputs": [],
   "source": [
    "# Binary vector of word appearance in a sentence\n",
    "def vect(sent):\n",
    "    # create new dict and place zeros in it\n",
    "    mydict = dict.fromkeys(corpus, 0) \n",
    "    \n",
    "    # code each word's appearance in the sentence with 1\n",
    "    for word in sent:\n",
    "        mydict[word] = 1\n",
    "    return mydict    "
   ]
  },
  {
   "cell_type": "code",
   "execution_count": null,
   "id": "e529342a",
   "metadata": {},
   "outputs": [],
   "source": [
    "# binarise sentence 1\n",
    "dict1 = vect(sent1)\n",
    "dict1"
   ]
  },
  {
   "cell_type": "code",
   "execution_count": null,
   "id": "d73ae419",
   "metadata": {
    "scrolled": true
   },
   "outputs": [],
   "source": [
    "# binarise sentence 1\n",
    "dict2 = vect(sent2)\n",
    "dict2"
   ]
  },
  {
   "cell_type": "code",
   "execution_count": null,
   "id": "83ea6682",
   "metadata": {},
   "outputs": [],
   "source": [
    "# Store the binary data into a DataFrame\n",
    "df = pd.DataFrame([dict1, dict2])\n",
    "df"
   ]
  },
  {
   "cell_type": "code",
   "execution_count": null,
   "id": "7ab851a0",
   "metadata": {},
   "outputs": [],
   "source": [
    "# convert the dataframe into numpy array\n",
    "ar = df.to_numpy() "
   ]
  },
  {
   "cell_type": "code",
   "execution_count": null,
   "id": "a5ffbc96",
   "metadata": {},
   "outputs": [],
   "source": [
    "# Apply function to test the similarity between the array rows\n",
    "cosim(ar[0], ar[1])"
   ]
  },
  {
   "cell_type": "markdown",
   "id": "834cc168",
   "metadata": {},
   "source": [
    "__NB__: Notice the role of the fullstop at the end of the sentences!"
   ]
  },
  {
   "cell_type": "markdown",
   "id": "d03dcd17",
   "metadata": {},
   "source": [
    "## Method 2: Word Importance\n",
    "We define some more features of the text, which could matter for the role of the words in it."
   ]
  },
  {
   "cell_type": "markdown",
   "id": "f708a73b",
   "metadata": {},
   "source": [
    "- __TF__ - term frequency -  how frequest is the occurrrence of a term (_word_) in a document (_sentence_)\n",
    "- __DF__ - document frequency - number of documents containing this term\n",
    "- __IDF__ - inverse term frequency - how big part of all documents contain this term\n",
    "- __TF-IDF__ - an integrated measure for the importance of a term - multiply __TF x IDF__ to find it.\n",
    "\n",
    "term = word"
   ]
  },
  {
   "cell_type": "markdown",
   "id": "2eb9bc06",
   "metadata": {},
   "source": [
    "TF can be measured in different ways:\n",
    "- absolute number of times the word appears in a document\n",
    "- relative frequency - count of occurrences divided by the number (quantity) of the words in the document\n",
    "- logarithmically scaled frequency (e.g. log(1 + count))"
   ]
  },
  {
   "cell_type": "markdown",
   "id": "ae47fa97",
   "metadata": {},
   "source": [
    "### 2.1 Count Vectorisation"
   ]
  },
  {
   "cell_type": "markdown",
   "id": "994a6e22",
   "metadata": {},
   "source": [
    "Consider the _number of occurrencies_ of a word in a document (how many times the same word appears) - __raw count__. "
   ]
  },
  {
   "cell_type": "code",
   "execution_count": null,
   "id": "c832d165",
   "metadata": {},
   "outputs": [],
   "source": [
    "# Create count vector from a sentence, telling the frequency of word appearance\n",
    "# Call this function for each sentence\n",
    "def cvect(sent):\n",
    "    \n",
    "    # creates the dict with the corpus words as keys and 0 as values\n",
    "    mydict = dict.fromkeys(corpus, 0) \n",
    "\n",
    "    # count the occurrence of each word\n",
    "    for word in sent:\n",
    "        mydict[word] += 1\n",
    "    return mydict    "
   ]
  },
  {
   "cell_type": "code",
   "execution_count": null,
   "id": "eedad192",
   "metadata": {},
   "outputs": [],
   "source": [
    "dict1 = cvect(sent1)\n",
    "dict1"
   ]
  },
  {
   "cell_type": "code",
   "execution_count": null,
   "id": "656c3cb7",
   "metadata": {},
   "outputs": [],
   "source": [
    "dict2 = cvect(sent2)\n",
    "dict2"
   ]
  },
  {
   "cell_type": "code",
   "execution_count": null,
   "id": "41cd701d",
   "metadata": {},
   "outputs": [],
   "source": [
    "# collect the dictionaires in a data frame\n",
    "dfc = pd.DataFrame([dict1, dict2])\n",
    "dfc"
   ]
  },
  {
   "cell_type": "markdown",
   "id": "2492ae40",
   "metadata": {},
   "source": [
    "Re-calculate the similarity"
   ]
  },
  {
   "cell_type": "code",
   "execution_count": null,
   "id": "09d0c9ed",
   "metadata": {},
   "outputs": [],
   "source": [
    "# Store the binary values into array\n",
    "arc = dfc.to_numpy()\n",
    "arc"
   ]
  },
  {
   "cell_type": "code",
   "execution_count": null,
   "id": "b919d6b2",
   "metadata": {},
   "outputs": [],
   "source": [
    "# Apply function to test the similarity between the array rows\n",
    "cosim(arc[0], arc[1])"
   ]
  },
  {
   "cell_type": "markdown",
   "id": "d4213188",
   "metadata": {},
   "source": [
    "### 2.2  Term Frequency\n",
    "Relative TF\n",
    "$$tf(t,d)={count-of-t-in-d \\over number-of-words-in-d} $$"
   ]
  },
  {
   "cell_type": "code",
   "execution_count": null,
   "id": "b7a6f7ee",
   "metadata": {},
   "outputs": [],
   "source": [
    "# Recalculate the word appearance as a proportion of all words in the document\n",
    "def computeTF(mydict, n):\n",
    "    # New empty dict for the results of recalculation\n",
    "    tfDict = {}\n",
    "    \n",
    "    for word, wcount in mydict.items():\n",
    "        # calculate the proportion\n",
    "        tfDict[word] = wcount/float(n) \n",
    "    return(tfDict)"
   ]
  },
  {
   "cell_type": "code",
   "execution_count": null,
   "id": "d4b834e0",
   "metadata": {},
   "outputs": [],
   "source": [
    "# call the function for both sets\n",
    "tf1 = computeTF(dict1, len(sent1))\n",
    "tf2 = computeTF(dict2, len(sent2))"
   ]
  },
  {
   "cell_type": "code",
   "execution_count": null,
   "id": "62a22340",
   "metadata": {},
   "outputs": [],
   "source": [
    "# store the two vectors into dataframe\n",
    "tff = pd.DataFrame([tf1, tf2])\n",
    "tff"
   ]
  },
  {
   "cell_type": "markdown",
   "id": "24b0310e",
   "metadata": {},
   "source": [
    "TF doen't mean much. 10 times higher frequency doesn't mean 10 times more important term."
   ]
  },
  {
   "cell_type": "code",
   "execution_count": null,
   "id": "ea7a429b",
   "metadata": {},
   "outputs": [],
   "source": [
    "# recompute similarity"
   ]
  },
  {
   "cell_type": "code",
   "execution_count": null,
   "id": "1f729569",
   "metadata": {},
   "outputs": [],
   "source": [
    "# Store the binary values into array\n",
    "art = tff.to_numpy()"
   ]
  },
  {
   "cell_type": "code",
   "execution_count": null,
   "id": "e4d61070",
   "metadata": {},
   "outputs": [],
   "source": [
    "# Test the similarity\n",
    "cosim(art[0], art[1])"
   ]
  },
  {
   "cell_type": "markdown",
   "id": "e5682a49",
   "metadata": {},
   "source": [
    "### 2.3 DF and IDF"
   ]
  },
  {
   "cell_type": "markdown",
   "id": "7b72fabf",
   "metadata": {},
   "source": [
    "If a word occurs many times in one document, but also in other documents, it may not be important, but just frequent.<br>\n",
    "IDF determines how common a word is amongst the whole corpus."
   ]
  },
  {
   "cell_type": "code",
   "execution_count": null,
   "id": "0aec5a17",
   "metadata": {},
   "outputs": [],
   "source": [
    "# IDF - inverse document frequency - measures the informativeness of term t\n",
    "# DF - number of documents containing the term\n",
    "# N - number of all documents\n",
    "# D - corpus of all words\n",
    "# idf(t, D) = N/df\n",
    "\n",
    "def computeIDF(allDocs):\n",
    "    # number of documents\n",
    "    N = len(allDocs) \n",
    "\n",
    "    # create empty dict, put the words in as keys and 0 as value\n",
    "    idf = {}\n",
    "    idf = dict.fromkeys(allDocs[0].keys(), 0)    \n",
    "    \n",
    "    # check all docs \n",
    "    for doc in allDocs:\n",
    "        # check all words \n",
    "        for word, wcount in doc.items():\n",
    "            # count the doc if the word appears in it\n",
    "            if wcount > 0:\n",
    "                idf[word] += 1\n",
    "    \n",
    "    # make correction in the counting to avoid eventual division by zero: idf(t) = log10(N/(df + 1))\n",
    "    for word, wcount in idf.items():\n",
    "        idf[word] = math.log10(N/(float(wcount)) + 1)\n",
    "        \n",
    "    return(idf)"
   ]
  },
  {
   "cell_type": "code",
   "execution_count": null,
   "id": "1d0161f7",
   "metadata": {},
   "outputs": [],
   "source": [
    "# test\n",
    "idfs = computeIDF([dict1, dict2])"
   ]
  },
  {
   "cell_type": "code",
   "execution_count": null,
   "id": "ddbcf2a2",
   "metadata": {},
   "outputs": [],
   "source": [
    "pprint.pprint(idfs)"
   ]
  },
  {
   "cell_type": "markdown",
   "id": "920d2a8c",
   "metadata": {},
   "source": [
    "### 2.4 TF-IDF\n",
    "TF-IDF determines how relevant a term is in a given document"
   ]
  },
  {
   "cell_type": "code",
   "execution_count": null,
   "id": "9d75bac0",
   "metadata": {},
   "outputs": [],
   "source": [
    "# tf-idf(t, d) = tf(t, d) * idf(t, D)\n",
    "def computeTFIDF(tf, idfs):\n",
    "    tfidf = {}\n",
    "    for word, wcount in tf.items():\n",
    "        tfidf[word] = wcount*idfs[word]\n",
    "    return(tfidf)\n"
   ]
  },
  {
   "cell_type": "code",
   "execution_count": null,
   "id": "b8455d6c",
   "metadata": {},
   "outputs": [],
   "source": [
    "#running our two sentences through the IDF:\n",
    "idf1 = computeTFIDF(tf1, idfs)\n",
    "idf2 = computeTFIDF(tf2, idfs)\n"
   ]
  },
  {
   "cell_type": "code",
   "execution_count": null,
   "id": "3c7bfe0c",
   "metadata": {
    "scrolled": true
   },
   "outputs": [],
   "source": [
    "# store in a dataframe\n",
    "idf= pd.DataFrame([idf1, idf2])\n",
    "idf"
   ]
  },
  {
   "cell_type": "code",
   "execution_count": null,
   "id": "fa8fcc3a",
   "metadata": {},
   "outputs": [],
   "source": [
    "# Store the binary values into array\n",
    "arx = idf.to_numpy()"
   ]
  },
  {
   "cell_type": "code",
   "execution_count": null,
   "id": "de103959",
   "metadata": {},
   "outputs": [],
   "source": [
    "# Test the similarity\n",
    "cosim(arx[0], arx[1])"
   ]
  },
  {
   "cell_type": "markdown",
   "id": "ec1567e6",
   "metadata": {},
   "source": [
    "BOW has many negatives\n",
    "- for example, it counts equaly \"John is older than Mary\" and \"Mary is older than John\"."
   ]
  },
  {
   "cell_type": "markdown",
   "id": "d0120227",
   "metadata": {},
   "source": [
    "### 2.5 Using sklearn"
   ]
  },
  {
   "cell_type": "markdown",
   "id": "779e5c5e",
   "metadata": {},
   "source": [
    "_sklearn.feature_extraction.text.TfidfVectorizer(input)_\n",
    "\n",
    "Parameters:\n",
    "\n",
    "- input: It refers to parameter document passed, it can be a filename, file or content itself.\n",
    "\n",
    "Attributes:\n",
    "- vocabulary_: It returns a dictionary of terms as keys and values as feature indices.\n",
    "- idf_: It returns the inverse document frequency vector of the document passed as a parameter.\n",
    "\n",
    "Returns:\n",
    "- fit_transform(): It returns an array of terms along with tf-idf values.\n",
    "- get_feature_names(): It returns a list of feature names."
   ]
  },
  {
   "cell_type": "code",
   "execution_count": null,
   "id": "7e96d557",
   "metadata": {},
   "outputs": [],
   "source": [
    "from sklearn.feature_extraction.text import TfidfVectorizer \n",
    "from sklearn.metrics.pairwise import cosine_similarity"
   ]
  },
  {
   "cell_type": "code",
   "execution_count": null,
   "id": "04a1583a",
   "metadata": {},
   "outputs": [],
   "source": [
    "tfidf = TfidfVectorizer(stop_words='english')"
   ]
  },
  {
   "cell_type": "code",
   "execution_count": null,
   "id": "7f5edeb7",
   "metadata": {},
   "outputs": [],
   "source": [
    "result = tfidf.fit_transform([doc1, doc2])"
   ]
  },
  {
   "cell_type": "code",
   "execution_count": null,
   "id": "b7303a04",
   "metadata": {},
   "outputs": [],
   "source": [
    "# get idf values\n",
    "for e1, e2 in zip(tfidf.get_feature_names_out(), tfidf.idf_):\n",
    "    print(e1, '\\t:', e2)"
   ]
  },
  {
   "cell_type": "code",
   "execution_count": null,
   "id": "3939e37b",
   "metadata": {},
   "outputs": [],
   "source": [
    "# tf-idf values (doc, word)\n",
    "print(result)"
   ]
  },
  {
   "cell_type": "code",
   "execution_count": null,
   "id": "3b633799",
   "metadata": {},
   "outputs": [],
   "source": [
    "cosine_similarity(result[0], result[1])"
   ]
  },
  {
   "cell_type": "markdown",
   "id": "35068b01",
   "metadata": {},
   "source": [
    "## Method 3: Applying NLP Techniques"
   ]
  },
  {
   "cell_type": "markdown",
   "id": "bc70cdff",
   "metadata": {},
   "source": [
    "### 3.1 Sentence Transformers"
   ]
  },
  {
   "cell_type": "code",
   "execution_count": null,
   "id": "021b200c",
   "metadata": {},
   "outputs": [],
   "source": [
    "from sentence_transformers import SentenceTransformer, util"
   ]
  },
  {
   "cell_type": "code",
   "execution_count": null,
   "id": "cd78fe35",
   "metadata": {},
   "outputs": [],
   "source": [
    "embedder = SentenceTransformer('all-MiniLM-L6-v2')\n",
    "# model = SentenceTransformer('paraphrase-multilingual-mpnet-base-v2')"
   ]
  },
  {
   "cell_type": "code",
   "execution_count": null,
   "id": "99770c3e",
   "metadata": {},
   "outputs": [],
   "source": [
    "# Create embeddings from texts\n",
    "corpus_embeddings = embedder.encode([doc1, doc2])\n",
    "corpus_embeddings"
   ]
  },
  {
   "cell_type": "code",
   "execution_count": null,
   "id": "61a92ab3",
   "metadata": {},
   "outputs": [],
   "source": [
    "# Ask a question\n",
    "# query = [\"Cphbusiness afdelinger?\"]\n",
    "query = [\"Who is Mette Frederiksen?\"]"
   ]
  },
  {
   "cell_type": "code",
   "execution_count": null,
   "id": "f62aeb5f",
   "metadata": {},
   "outputs": [],
   "source": [
    "# Vectorise the question\n",
    "query_embedding = embedder.encode(query)\n",
    "query_embedding"
   ]
  },
  {
   "cell_type": "code",
   "execution_count": null,
   "id": "46584ae3",
   "metadata": {},
   "outputs": [],
   "source": [
    "# Test\n",
    "# Search for similarities between the individual sentences and the question\n",
    "for sent_embedding in corpus_embeddings:\n",
    "    sim = util.cos_sim(query_embedding, sent_embedding)\n",
    "    print(sim.tolist())"
   ]
  },
  {
   "cell_type": "markdown",
   "id": "5cc4c0b4",
   "metadata": {},
   "source": [
    "#### Another Example\n",
    "_scipy.spatial.distance.cdist()_"
   ]
  },
  {
   "cell_type": "code",
   "execution_count": null,
   "id": "17cbd2c5",
   "metadata": {},
   "outputs": [],
   "source": [
    "documents = [\"Cphbusiness er erhvervsakademi\", \"En mand spiser mad\", \"Cphbusiness afdelinger\"]"
   ]
  },
  {
   "cell_type": "code",
   "execution_count": null,
   "id": "d4d48e25",
   "metadata": {},
   "outputs": [],
   "source": [
    "# see the similaarity matrix\n",
    "query_embedding = embedder.encode(documents)\n",
    "query_embedding"
   ]
  },
  {
   "cell_type": "markdown",
   "id": "3480cae1",
   "metadata": {},
   "source": [
    "### 3.2 Spacy"
   ]
  },
  {
   "cell_type": "code",
   "execution_count": null,
   "id": "c1fd7e32",
   "metadata": {},
   "outputs": [],
   "source": [
    "!pip install langdetect"
   ]
  },
  {
   "cell_type": "code",
   "execution_count": null,
   "id": "f6562a63",
   "metadata": {},
   "outputs": [],
   "source": [
    "import langdetect\n",
    "from langdetect import detect, detect_langs"
   ]
  },
  {
   "cell_type": "code",
   "execution_count": null,
   "id": "21193e03",
   "metadata": {},
   "outputs": [],
   "source": [
    "import spacy\n",
    "from spacy import displacy"
   ]
  },
  {
   "cell_type": "code",
   "execution_count": null,
   "id": "526107d3",
   "metadata": {},
   "outputs": [],
   "source": [
    "!python -m spacy validate"
   ]
  },
  {
   "cell_type": "code",
   "execution_count": null,
   "id": "98b61a71",
   "metadata": {},
   "outputs": [],
   "source": [
    "!python -m spacy download en_core_web_md"
   ]
  },
  {
   "cell_type": "code",
   "execution_count": null,
   "id": "42bc97b5",
   "metadata": {},
   "outputs": [],
   "source": [
    "!python -m spacy download da_core_news_md"
   ]
  },
  {
   "cell_type": "code",
   "execution_count": null,
   "id": "5a4a036f",
   "metadata": {},
   "outputs": [],
   "source": [
    "from spacy.lang.en import English\n",
    "from spacy.lang.da import Danish"
   ]
  },
  {
   "cell_type": "code",
   "execution_count": null,
   "id": "212362be",
   "metadata": {},
   "outputs": [],
   "source": [
    "# langdetect library\n",
    "import langdetect\n",
    "from langdetect import DetectorFactory, detect, detect_langs"
   ]
  },
  {
   "cell_type": "markdown",
   "id": "b9ad98bd",
   "metadata": {},
   "source": [
    "### 3.2.1 Language Detection"
   ]
  },
  {
   "cell_type": "code",
   "execution_count": null,
   "id": "2766238a",
   "metadata": {},
   "outputs": [],
   "source": [
    "# function to detect the language\n",
    "def langDetect(text):    \n",
    "    mylang = ''        # language\n",
    "    mylangprob = 0.0   # probability \n",
    "    try:\n",
    "        langs = langdetect.detect_langs(text)\n",
    "        mylang, mylangprob = langs[0].lang, langs[0].prob \n",
    "        print('Detected language:', mylang, mylangprob)\n",
    "        \n",
    "        if mylang=='en':     \n",
    "            # default = English()  # Include English language data    \n",
    "            model = 'en_core_web_md'\n",
    "            \n",
    "        elif mylang=='da': # Danish\n",
    "            # default = Danish()  # Include Danish language data \n",
    "            model = 'da_core_news_md'\n",
    "        \n",
    "    # another language?\n",
    "    except langdetect.lang_detect_exception.LangDetectException:\n",
    "        log.debug('Language not recognised')\n",
    "        pass\n",
    "    return model"
   ]
  },
  {
   "cell_type": "code",
   "execution_count": null,
   "id": "9fec9b77",
   "metadata": {},
   "outputs": [],
   "source": [
    "model = langDetect(doc1)"
   ]
  },
  {
   "cell_type": "code",
   "execution_count": null,
   "id": "75a11561",
   "metadata": {},
   "outputs": [],
   "source": [
    "model = langDetect(doc2)"
   ]
  },
  {
   "cell_type": "markdown",
   "id": "128a4df1",
   "metadata": {},
   "source": [
    "### 3.2.2 Tokenizing and Vectorisation"
   ]
  },
  {
   "attachments": {
    "image.png": {
     "image/png": "[encoded data removed]"
    }
   },
   "cell_type": "markdown",
   "id": "ed20a2db",
   "metadata": {},
   "source": [
    "![image.png](attachment:image.png)"
   ]
  },
  {
   "cell_type": "code",
   "execution_count": null,
   "id": "b30670e0",
   "metadata": {},
   "outputs": [],
   "source": [
    "# function to split the text into tokens (words) and discover their role in it\n",
    "def tokenize(text, model):\n",
    "        \n",
    "    mytokens = []\n",
    "    nlp = spacy.load(model)\n",
    "    text = text.lower()\n",
    "    doc = nlp(text)\n",
    "    stopw = nlp.Defaults.stop_words\n",
    "    # print(stopw)  # uncomment to see them\n",
    "    \n",
    "    print(\"\\nPipeline:\", nlp.pipe_names, \"\\n\")    \n",
    "    for token in doc:\n",
    "        if not (token.is_stop or token.is_punct or token.is_space):\n",
    "            data = {'token': token.text,\n",
    "                    'lemma': token.lemma_, \n",
    "                    'POS': token.pos_, \n",
    "                    'tag': token.tag_, \n",
    "                    'ent_type': token.ent_type_,\n",
    "                    'vector': token.has_vector,  # vectors come with the model\n",
    "                    'oov': token.is_oov # out of vocabulary of the selected model\n",
    "                   }\n",
    "            print(data)\n",
    "            # print('vector: ', token.vector)  # uncomment to see the vectors\n",
    "            mytokens.append(token.text)\n",
    "    clean_text = \" \".join(mytokens)\n",
    "    options = {\"compact\": True, \"color\": \"blue\"}\n",
    "    spacy.displacy.render(doc, style=\"ent\")\n",
    "    spacy.displacy.render(doc, style=\"dep\", options=options)\n",
    "    return clean_text"
   ]
  },
  {
   "cell_type": "code",
   "execution_count": null,
   "id": "5daad11a",
   "metadata": {},
   "outputs": [],
   "source": [
    "sent1 = tokenize(doc1, model)\n",
    "sent1"
   ]
  },
  {
   "cell_type": "code",
   "execution_count": null,
   "id": "86ab8038",
   "metadata": {},
   "outputs": [],
   "source": [
    "sent2 = tokenize(doc2, model)\n",
    "sent2"
   ]
  },
  {
   "cell_type": "code",
   "execution_count": null,
   "id": "f11d1b75",
   "metadata": {},
   "outputs": [],
   "source": [
    "nlp = spacy.load(model)\n",
    "doc_1 = nlp(sent1)"
   ]
  },
  {
   "cell_type": "code",
   "execution_count": null,
   "id": "1ba48f0e",
   "metadata": {},
   "outputs": [],
   "source": [
    "doc_2 = nlp(sent2)"
   ]
  },
  {
   "cell_type": "markdown",
   "id": "3e2eaa7a",
   "metadata": {},
   "source": [
    "### 3.2.3 Vector Similarity\n",
    "Similarity is determined by comparing word vectors or __word embeddings__, multi-dimensional meaning representations of a word. Word vectors can be generated using an algorithm like word2vec.<br> \n",
    "The __word2vec__ algorithm takes a text corpus as input and produces the word vectors as output. It first constructs a _vocabulary_ from the training text data and then learns vector representation of words. <br>\n",
    "It is possible to compare whole documents, spans (sentences in aa document, as well as individual tokens."
   ]
  },
  {
   "cell_type": "code",
   "execution_count": null,
   "id": "793ada3d",
   "metadata": {},
   "outputs": [],
   "source": [
    "# use the vector similarity method\n",
    "print(doc_1.similarity(doc_2))"
   ]
  },
  {
   "cell_type": "code",
   "execution_count": null,
   "id": "5e5e7692",
   "metadata": {},
   "outputs": [],
   "source": []
  }
 ],
 "metadata": {
  "kernelspec": {
   "display_name": "Python 3 (ipykernel)",
   "language": "python",
   "name": "python3"
  },
  "language_info": {
   "codemirror_mode": {
    "name": "ipython",
    "version": 3
   },
   "file_extension": ".py",
   "mimetype": "text/x-python",
   "name": "python",
   "nbconvert_exporter": "python",
   "pygments_lexer": "ipython3",
   "version": "3.11.5"
  }
 },
 "nbformat": 4,
 "nbformat_minor": 5
}
